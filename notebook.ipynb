{
 "cells": [
  {
   "cell_type": "code",
   "execution_count": 2,
   "metadata": {
    "ExecuteTime": {
     "end_time": "2023-08-22T08:04:13.609556700Z",
     "start_time": "2023-08-22T08:04:10.894815200Z"
    }
   },
   "outputs": [],
   "source": [
    "import pandas as pd\n",
    "import numpy as np\n",
    "import pickle"
   ]
  },
  {
   "cell_type": "code",
   "execution_count": 4,
   "metadata": {},
   "outputs": [
    {
     "data": {
      "text/html": [
       "<div>\n",
       "<style scoped>\n",
       "    .dataframe tbody tr th:only-of-type {\n",
       "        vertical-align: middle;\n",
       "    }\n",
       "\n",
       "    .dataframe tbody tr th {\n",
       "        vertical-align: top;\n",
       "    }\n",
       "\n",
       "    .dataframe thead th {\n",
       "        text-align: right;\n",
       "    }\n",
       "</style>\n",
       "<table border=\"1\" class=\"dataframe\">\n",
       "  <thead>\n",
       "    <tr style=\"text-align: right;\">\n",
       "      <th></th>\n",
       "      <th>CIC0</th>\n",
       "      <th>SM1_Dz(Z)</th>\n",
       "      <th>GATS1i</th>\n",
       "      <th>NdsCH</th>\n",
       "      <th>NdssC</th>\n",
       "      <th>MLOGP</th>\n",
       "      <th>LC50 [-LOG(mol/L)]</th>\n",
       "    </tr>\n",
       "  </thead>\n",
       "  <tbody>\n",
       "    <tr>\n",
       "      <th>0</th>\n",
       "      <td>3.260</td>\n",
       "      <td>0.829</td>\n",
       "      <td>1.676</td>\n",
       "      <td>0.0</td>\n",
       "      <td>1</td>\n",
       "      <td>1.453</td>\n",
       "      <td>3.770</td>\n",
       "    </tr>\n",
       "    <tr>\n",
       "      <th>1</th>\n",
       "      <td>2.189</td>\n",
       "      <td>0.580</td>\n",
       "      <td>0.863</td>\n",
       "      <td>0.0</td>\n",
       "      <td>0</td>\n",
       "      <td>1.348</td>\n",
       "      <td>3.115</td>\n",
       "    </tr>\n",
       "    <tr>\n",
       "      <th>2</th>\n",
       "      <td>2.125</td>\n",
       "      <td>0.638</td>\n",
       "      <td>0.831</td>\n",
       "      <td>0.0</td>\n",
       "      <td>0</td>\n",
       "      <td>1.348</td>\n",
       "      <td>3.531</td>\n",
       "    </tr>\n",
       "    <tr>\n",
       "      <th>3</th>\n",
       "      <td>3.027</td>\n",
       "      <td>0.331</td>\n",
       "      <td>1.472</td>\n",
       "      <td>1.0</td>\n",
       "      <td>0</td>\n",
       "      <td>1.807</td>\n",
       "      <td>3.510</td>\n",
       "    </tr>\n",
       "    <tr>\n",
       "      <th>4</th>\n",
       "      <td>2.094</td>\n",
       "      <td>0.827</td>\n",
       "      <td>0.860</td>\n",
       "      <td>0.0</td>\n",
       "      <td>0</td>\n",
       "      <td>1.886</td>\n",
       "      <td>5.390</td>\n",
       "    </tr>\n",
       "  </tbody>\n",
       "</table>\n",
       "</div>"
      ],
      "text/plain": [
       "    CIC0  SM1_Dz(Z)  GATS1i  NdsCH  NdssC  MLOGP  LC50 [-LOG(mol/L)]\n",
       "0  3.260      0.829   1.676    0.0      1  1.453               3.770\n",
       "1  2.189      0.580   0.863    0.0      0  1.348               3.115\n",
       "2  2.125      0.638   0.831    0.0      0  1.348               3.531\n",
       "3  3.027      0.331   1.472    1.0      0  1.807               3.510\n",
       "4  2.094      0.827   0.860    0.0      0  1.886               5.390"
      ]
     },
     "execution_count": 4,
     "metadata": {},
     "output_type": "execute_result"
    }
   ],
   "source": [
    "data = pd.read_csv('qsar_fish_toxicity.csv')\n",
    "data.head()"
   ]
  },
  {
   "cell_type": "code",
   "execution_count": 5,
   "metadata": {
    "ExecuteTime": {
     "end_time": "2023-08-22T03:24:06.189227Z",
     "start_time": "2023-08-22T03:24:05.986700400Z"
    }
   },
   "outputs": [
    {
     "name": "stdout",
     "output_type": "stream",
     "text": [
      "<class 'pandas.core.frame.DataFrame'>\n",
      "RangeIndex: 908 entries, 0 to 907\n",
      "Data columns (total 7 columns):\n",
      " #   Column              Non-Null Count  Dtype  \n",
      "---  ------              --------------  -----  \n",
      " 0   CIC0                906 non-null    float64\n",
      " 1   SM1_Dz(Z)           906 non-null    float64\n",
      " 2   GATS1i              906 non-null    float64\n",
      " 3   NdsCH               907 non-null    float64\n",
      " 4   NdssC               908 non-null    int64  \n",
      " 5   MLOGP               905 non-null    float64\n",
      " 6   LC50 [-LOG(mol/L)]  906 non-null    float64\n",
      "dtypes: float64(6), int64(1)\n",
      "memory usage: 49.8 KB\n"
     ]
    }
   ],
   "source": [
    "data.info()"
   ]
  },
  {
   "cell_type": "code",
   "execution_count": 6,
   "outputs": [
    {
     "data": {
      "text/plain": "array([3.26 , 2.189, 2.125, 3.027, 2.094, 3.222, 3.179, 3.   , 2.62 ,\n       2.834, 2.405, 2.728, 2.512, 2.819, 2.126, 3.014, 3.024, 3.036,\n       2.707, 2.978, 3.111, 3.315, 2.71 , 3.326, 3.332, 3.896, 3.155,\n       2.479, 1.075, 3.645, 3.079, 2.726, 3.532, 4.216, 3.605, 2.918,\n       3.833, 3.669, 2.824, 2.233, 3.103, 4.413, 3.641, 3.073, 3.012,\n       3.818, 4.171, 3.734, 2.216, 2.086, 3.08 , 1.636, 2.219, 1.594,\n       1.818, 1.5  , 1.512, 2.56 , 1.359, 0.667, 2.333, 2.026, 0.965,\n       1.951, 1.   , 3.219, 3.74 , 3.57 , 5.926, 3.802, 2.802, 2.242,\n       1.94 , 3.277, 2.359, 2.565, 2.085, 2.26 , 2.91 , 2.866, 2.386,\n       3.509, 2.98 , 3.462, 2.755, 2.024, 2.609, 2.878, 1.961, 2.665,\n       1.251, 2.377, 2.366, 2.462, 1.778, 3.609, 3.316, 2.   , 3.441,\n       2.429, 3.143, 2.709, 2.701, 3.252, 2.111, 3.361, 3.52 , 3.181,\n       3.369, 2.507, 2.67 , 2.704, 3.566, 2.594, 3.485, 3.596, 3.199,\n       2.57 , 4.005, 3.201, 3.98 , 4.114, 4.237, 4.63 , 2.456, 2.536,\n       3.461, 2.641, 3.38 , 2.544, 1.279, 2.572, 3.728, 3.358, 2.96 ,\n       4.81 , 3.311, 3.023, 2.585, 1.925, 2.454, 2.508, 2.222, 3.389,\n       2.031, 1.965, 3.351, 3.452, 4.288, 1.962, 3.041, 2.777, 2.218,\n       1.822, 3.459, 2.442, 1.945, 2.868, 2.971, 3.378, 2.961, 2.778,\n       3.281, 3.026, 2.836, 4.285, 2.534, 4.077, 3.137, 2.034, 1.667,\n       2.283, 3.164, 3.03 , 2.119, 3.914, 3.542, 3.102, 3.393, 3.191,\n       2.639, 2.47 , 2.164, 3.247, 4.255, 3.629, 2.374, 2.855, 3.739,\n       3.426, 4.785, 3.286, 2.857, 3.924, 3.601, 3.634, 1.968, 3.029,\n       2.9  , 3.832, 2.344, 3.353, 2.993, 2.914, 3.188, 3.134, 3.514,\n       3.436, 2.217, 2.685, 4.029, 1.883, 3.432, 3.323, 3.73 , 1.831,\n       4.141, 3.035, 3.867, 1.713, 2.441, 1.634, 3.13 , 1.886, 3.684,\n       4.461, 3.087, 3.822, 3.113, 2.95 , 3.402, 3.618, 3.613, 2.251,\n       3.175,   nan, 3.709, 3.559, 4.05 , 3.24 , 4.829, 2.079, 4.037,\n       2.137, 3.421, 2.591, 2.118, 3.274, 2.08 , 2.8  , 3.9  , 3.177,\n       3.261, 2.818, 3.63 , 4.535, 3.756, 2.198, 3.159, 2.862, 4.121,\n       2.309, 3.69 , 3.282, 3.465, 4.085, 3.33 , 2.304, 3.691, 3.501,\n       3.578, 2.634, 3.588, 2.955, 1.844, 4.395, 3.128, 2.417, 3.055,\n       2.624, 2.423, 2.548, 2.647, 3.196, 2.396, 1.983, 4.086, 3.174,\n       3.567, 3.591, 3.81 , 3.979, 2.183, 2.74 , 3.001, 3.55 , 4.311,\n       3.587, 2.893, 3.898, 3.675, 2.817, 3.937, 2.019, 2.928, 3.793,\n       4.181, 2.297, 2.206, 3.407, 4.372, 3.065, 1.786, 2.11 , 1.975,\n       4.223, 3.333, 3.749, 3.098, 3.249, 4.247, 2.375, 4.205, 2.24 ,\n       2.568, 4.532, 4.324, 3.386, 2.448, 3.25 , 3.11 , 3.2  , 3.337,\n       2.077, 3.7  , 2.428, 3.871, 3.046, 2.238, 2.841, 4.031, 2.477,\n       1.977, 2.439, 3.049, 3.78 , 2.495, 2.875, 1.639, 2.33 , 2.542,\n       3.18 , 2.482, 2.719, 4.88 , 2.876, 4.139, 2.122, 4.061, 3.067,\n       3.528, 3.198, 2.888, 4.443, 1.783, 3.526, 4.436, 4.356, 3.05 ,\n       2.803, 2.528, 3.171, 4.258, 4.717, 3.423, 2.748, 4.135, 3.314,\n       3.788, 2.215, 3.905, 2.636, 2.781, 4.137, 1.733, 2.583, 2.329,\n       2.092, 1.774, 3.052, 3.554, 2.983, 1.892, 3.195, 3.343, 2.025,\n       1.946, 3.651, 2.987, 3.405, 2.43 , 2.065, 2.469, 1.751, 1.333,\n       0.973, 3.828, 3.003, 2.555, 3.86 , 4.191, 3.961, 3.005, 4.36 ,\n       4.219, 3.676, 3.033, 2.684, 1.439, 3.444, 5.158, 2.526, 3.593,\n       3.376, 4.305, 2.926, 4.166, 2.938, 4.536, 2.165, 1.126, 1.429,\n       1.523, 1.832, 1.701, 1.094, 2.931, 3.668, 2.632, 2.465, 3.738,\n       3.815, 4.628, 3.41 , 2.739, 3.957, 3.383, 3.819, 3.044, 3.776,\n       3.39 , 3.921, 3.993, 4.566, 2.523, 4.268, 3.888, 3.477, 3.557,\n       4.073, 2.744, 2.815, 3.265, 2.351, 2.822, 1.417, 2.982, 3.394,\n       2.937, 4.278, 3.585, 3.086, 1.855, 2.677, 3.874, 2.435, 3.235,\n       3.814, 1.92 , 3.611, 3.16 , 2.348, 2.434, 2.765, 2.252, 3.126,\n       1.814, 4.211, 2.16 , 4.327, 3.057, 3.401, 3.101, 3.599, 2.986,\n       2.804, 3.67 , 3.475, 2.801, 3.652, 3.763, 2.831, 4.057])"
     },
     "execution_count": 6,
     "metadata": {},
     "output_type": "execute_result"
    }
   ],
   "source": [
    "data['CIC0'].unique()"
   ],
   "metadata": {
    "collapsed": false,
    "ExecuteTime": {
     "end_time": "2023-08-22T03:24:34.752114300Z",
     "start_time": "2023-08-22T03:24:34.654940900Z"
    }
   }
  },
  {
   "cell_type": "code",
   "execution_count": 7,
   "outputs": [
    {
     "data": {
      "text/plain": "array([0.829, 0.58 , 0.638, 0.331, 0.827, 0.   , 0.499, 0.134, 0.223,\n       0.251, 0.56 , 0.452, 0.405, 0.972, 1.246, 0.732, 0.93 , 0.647,\n       0.887, 1.161, 0.429, 0.496, 0.64 , 0.693, 0.977, 0.679, 0.83 ,\n       0.582, 0.604, 0.486, 1.374, 1.096, 0.749, 1.079, 0.854, 0.811,\n       1.028, 0.764, 1.16 , 1.834, 1.501, 0.956, 1.348, 0.88 , 1.586,\n       1.318, 1.075, 0.711, 0.891, 1.408, 0.865, 0.934, 0.947, 0.923,\n       1.47 , 1.211, 0.889, 1.286, 0.859, 0.872, 1.278, 1.07 , 1.821,\n       1.38 , 1.292, 1.462, 1.437, 1.695, 1.331, 1.263, 0.357, 0.973,\n       1.275, 2.044, 0.798, 1.182,   nan, 0.965, 1.232, 1.098, 0.713,\n       1.153, 1.115, 1.593, 0.845, 1.772, 0.842, 1.336, 0.988, 1.192,\n       1.317, 1.371, 1.327, 1.214, 0.918, 1.477, 0.702, 1.031, 0.907,\n       2.171, 0.874, 1.421, 1.86 , 1.273, 1.621, 1.225, 0.949, 1.714,\n       1.025, 1.03 , 1.306, 1.54 , 1.04 , 0.651, 1.496, 0.675, 1.236,\n       1.718, 1.012, 0.762, 0.681, 1.131, 1.749, 0.57 , 1.3  , 1.548,\n       0.389, 0.916, 0.773, 0.802, 0.797, 1.493, 2.071, 1.026, 1.512,\n       0.46 , 1.345, 1.443, 1.513, 1.113, 1.112, 0.932, 1.281, 1.303,\n       0.928, 0.73 , 1.74 , 0.659, 1.19 , 1.685, 1.364, 1.077, 1.359,\n       0.629, 1.441, 1.15 , 1.068, 1.126, 1.151, 1.076, 1.062, 0.754,\n       1.259, 1.11 , 1.683, 1.033, 1.385, 1.209, 1.71 , 1.825, 1.531,\n       0.615, 0.85 , 0.898, 0.948, 1.179, 0.288, 1.067, 1.17 , 1.316,\n       1.159, 1.636, 1.535, 0.961, 0.728, 1.393, 1.032])"
     },
     "execution_count": 7,
     "metadata": {},
     "output_type": "execute_result"
    }
   ],
   "source": [
    "data['SM1_Dz(Z)'].unique()"
   ],
   "metadata": {
    "collapsed": false,
    "ExecuteTime": {
     "end_time": "2023-08-22T03:25:06.919867600Z",
     "start_time": "2023-08-22T03:25:06.879006500Z"
    }
   }
  },
  {
   "cell_type": "code",
   "execution_count": 8,
   "outputs": [
    {
     "data": {
      "text/plain": "array([1.676, 0.863, 0.831, 1.472, 0.86 , 2.177, 1.063, 0.938, 0.99 ,\n       0.95 , 0.843, 0.953, 0.929, 1.237, 1.271, 1.114, 1.322, 1.781,\n       2.698, 1.205, 1.889, 1.103, 0.923, 0.96 , 0.724, 0.986, 1.294,\n       1.984, 2.128, 0.954, 0.865, 1.155, 2.135, 1.519, 1.179, 1.11 ,\n       1.248, 1.15 , 0.944, 1.522, 1.599, 1.   , 0.92 , 1.344, 1.17 ,\n       1.933, 1.851, 1.023, 1.627, 1.678, 1.45 , 1.374, 0.771, 0.764,\n       0.899, 0.839, 0.838, 0.917, 1.609, 1.695, 1.537, 1.333, 1.468,\n       1.891, 1.844, 1.758, 1.445, 1.13 , 1.361, 1.946, 1.429, 1.068,\n       1.878, 1.5  , 1.605, 1.581, 2.259, 1.671, 1.527, 1.6  , 1.907,\n       1.066, 1.69 , 1.583, 1.869, 0.814, 1.987, 0.895, 0.836, 1.293,\n       0.907, 1.385, 0.857, 1.478, 2.261, 1.959, 1.717, 1.559, 1.328,\n       1.529, 1.684, 1.215, 1.762, 1.126, 2.111, 2.606, 2.102, 1.27 ,\n       1.669, 1.203, 1.189, 1.571, 1.128, 1.667, 1.696, 1.641, 1.127,\n       2.072, 2.003, 1.417, 1.253, 2.451, 1.437, 1.562, 1.52 , 1.614,\n       1.633, 1.416, 2.047, 1.965, 1.343, 1.595, 1.287, 1.515, 2.033,\n       2.137, 1.531, 1.545, 2.004, 1.578, 1.565, 1.458, 1.259, 1.165,\n       1.281, 1.077, 1.506, 1.245, 1.714, 1.35 , 0.872, 1.53 , 1.42 ,\n       0.927, 1.168, 0.595, 0.951, 0.941, 0.849, 0.822, 0.709, 1.466,\n       1.476, 1.327, 0.819, 1.298, 1.074, 1.521, 0.834, 1.483, 2.254,\n       0.835, 1.1  , 2.162, 0.988, 1.808, 1.625, 1.787, 1.954, 1.43 ,\n       1.551, 1.619, 4.98 , 1.312, 1.727, 1.56 , 1.223, 0.909, 1.027,\n       1.475, 1.637, 1.264, 1.316, 2.122, 0.847, 0.83 , 1.346, 1.227,\n       0.889, 1.087, 1.079, 0.76 , 0.979, 1.325, 1.25 , 1.488, 1.471,\n       2.104, 1.652, 1.838, 1.707, 1.747, 1.927, 1.847, 1.761, 1.548,\n       1.778, 0.913, 1.587, 1.71 , 1.59 , 1.944, 1.232, 0.975, 1.011,\n       1.244, 1.319, 1.07 , 0.875, 1.145, 1.388, 1.729, 1.162, 1.134,\n       1.901, 1.22 , 1.941, 1.12 , 1.4  , 1.752, 1.54 , 1.19 , 0.88 ,\n       0.523, 0.653, 1.072, 1.139, 1.125, 0.793, 1.351, 1.686, 1.204,\n       1.197, 1.455, 2.095, 1.481, 1.288, 1.36 , 1.381, 1.563, 1.7  ,\n       1.284, 0.832, 0.7  , 1.629, 1.643, 0.788, 1.091, 1.572, 1.919,\n       1.208, 0.984, 1.137, 0.964, 0.79 , 1.584, 1.828, 0.871, 1.062,\n       1.749, 0.888, 1.482, 1.108, 1.174, 1.555, 1.124, 1.073, 1.585,\n       0.861, 0.903, 1.406, 2.282, 0.939, 1.046, 0.805, 2.164, 1.161,\n       1.313, 0.804, 1.546, 0.797, 1.132, 1.502, 1.839, 1.051, 1.278,\n       1.234, 2.105, 1.843, 1.418, 0.91 , 1.501, 1.685, 1.055, 2.208,\n       0.906, 1.404, 1.226, 0.846, 1.603, 0.781, 1.624, 2.108, 1.708,\n       0.762, 0.77 , 0.794, 0.908, 0.93 ,   nan, 1.383, 0.798, 1.653,\n       0.796, 1.254, 0.825, 1.081, 1.207, 0.773, 0.775, 0.802, 1.117,\n       0.963, 2.456, 1.075, 1.279, 1.375, 1.09 , 0.845, 0.789, 1.487,\n       0.817, 1.012, 1.282, 1.426, 1.462, 1.438, 0.783, 1.225, 0.921,\n       1.193, 1.118, 1.235, 0.829, 1.221, 1.556, 1.359, 1.952, 2.609,\n       1.558, 2.078, 1.705, 1.106, 1.255, 0.876, 0.881, 0.924, 1.258,\n       1.182, 1.151, 2.311, 0.931, 1.246, 1.415, 2.292, 1.853, 0.816,\n       1.372, 1.511, 1.658, 1.309, 1.098, 1.399, 1.771, 1.187, 2.327,\n       1.586, 1.596, 1.735, 1.224, 1.016, 0.868, 1.352, 1.297, 0.937,\n       1.538, 1.993, 2.048, 1.263, 1.173, 1.365, 0.396, 0.902, 0.421,\n       1.349, 0.999, 1.147, 1.542, 0.81 , 1.104, 0.862, 0.879, 2.273,\n       2.299, 1.397, 0.945, 2.106, 1.656, 0.776, 1.517, 1.335, 1.133,\n       0.968, 0.896, 0.859, 0.851, 1.929, 0.911, 0.841, 0.852, 1.093,\n       1.314, 2.   , 1.148, 2.672, 1.489, 0.966, 2.13 , 1.413, 1.55 ,\n       1.723, 1.719, 2.195, 1.317, 1.083, 0.774, 1.228, 1.111, 1.524,\n       1.662, 1.867, 1.791, 1.201, 1.166, 0.915, 2.013, 1.348, 1.939,\n       1.29 , 1.912, 1.431, 1.75 , 1.804, 1.432, 2.92 , 1.512, 1.364,\n       1.905, 1.461, 0.935, 1.176, 1.776, 1.154, 1.968, 1.3  , 1.734,\n       1.059, 1.44 , 1.265, 2.065, 1.868, 1.269, 0.892, 0.864, 0.959,\n       1.398, 1.214, 1.394, 0.974, 2.539, 1.602, 1.342, 1.386, 1.032,\n       1.792, 0.978, 1.301, 1.171, 0.753, 2.591, 0.962, 1.753, 0.648,\n       0.801, 0.946, 0.702, 0.8  , 0.799, 0.72 , 1.345, 1.009, 1.121,\n       1.789, 1.518, 1.491, 0.751, 0.837, 1.05 , 1.582, 1.109, 1.185,\n       0.996, 0.883, 0.983, 1.738, 1.532, 2.017, 0.809, 1.169, 0.75 ,\n       0.85 , 0.858, 0.885, 1.295, 1.045, 1.607, 0.995, 0.766, 1.722,\n       1.326, 1.514, 0.618, 2.11 , 2.226, 0.867, 0.878, 1.183])"
     },
     "execution_count": 8,
     "metadata": {},
     "output_type": "execute_result"
    }
   ],
   "source": [
    "data['GATS1i'].unique()"
   ],
   "metadata": {
    "collapsed": false,
    "ExecuteTime": {
     "end_time": "2023-08-22T03:25:56.927757600Z",
     "start_time": "2023-08-22T03:25:56.816059400Z"
    }
   }
  },
  {
   "cell_type": "code",
   "execution_count": 12,
   "outputs": [
    {
     "data": {
      "text/plain": "array([ 0.,  1.,  3.,  2.,  4., nan])"
     },
     "execution_count": 12,
     "metadata": {},
     "output_type": "execute_result"
    }
   ],
   "source": [
    "data['NdsCH'].unique()"
   ],
   "metadata": {
    "collapsed": false,
    "ExecuteTime": {
     "end_time": "2023-08-22T03:28:29.131741600Z",
     "start_time": "2023-08-22T03:28:29.022731400Z"
    }
   }
  },
  {
   "cell_type": "code",
   "execution_count": 11,
   "outputs": [
    {
     "data": {
      "text/plain": "array([ 1,  0,  3,  2,  4, 20, -3,  5,  6], dtype=int64)"
     },
     "execution_count": 11,
     "metadata": {},
     "output_type": "execute_result"
    }
   ],
   "source": [
    "data['NdssC'].unique()"
   ],
   "metadata": {
    "collapsed": false,
    "ExecuteTime": {
     "end_time": "2023-08-22T03:27:46.530008100Z",
     "start_time": "2023-08-22T03:27:46.329858300Z"
    }
   }
  },
  {
   "cell_type": "code",
   "execution_count": 13,
   "outputs": [
    {
     "data": {
      "text/plain": "CIC0                  502\nSM1_Dz(Z)             186\nGATS1i                556\nNdsCH                   5\nNdssC                   9\nMLOGP                 559\nLC50 [-LOG(mol/L)]    825\ndtype: int64"
     },
     "execution_count": 13,
     "metadata": {},
     "output_type": "execute_result"
    }
   ],
   "source": [
    "data.nunique()"
   ],
   "metadata": {
    "collapsed": false,
    "ExecuteTime": {
     "end_time": "2023-08-22T03:29:13.509235900Z",
     "start_time": "2023-08-22T03:29:13.420296Z"
    }
   }
  },
  {
   "cell_type": "code",
   "execution_count": 14,
   "outputs": [
    {
     "data": {
      "text/plain": "CIC0                  2\nSM1_Dz(Z)             2\nGATS1i                2\nNdsCH                 1\nNdssC                 0\nMLOGP                 3\nLC50 [-LOG(mol/L)]    2\ndtype: int64"
     },
     "execution_count": 14,
     "metadata": {},
     "output_type": "execute_result"
    }
   ],
   "source": [
    "data.isna().sum()"
   ],
   "metadata": {
    "collapsed": false,
    "ExecuteTime": {
     "end_time": "2023-08-22T03:30:27.120032900Z",
     "start_time": "2023-08-22T03:30:26.993947700Z"
    }
   }
  },
  {
   "cell_type": "code",
   "execution_count": 15,
   "outputs": [],
   "source": [
    "data['SM1_Dz(Z)'] = data['SM1_Dz(Z)'].replace(0,float('NaN'))"
   ],
   "metadata": {
    "collapsed": false,
    "ExecuteTime": {
     "end_time": "2023-08-22T03:31:35.085798Z",
     "start_time": "2023-08-22T03:31:35.039920600Z"
    }
   }
  },
  {
   "cell_type": "code",
   "execution_count": 16,
   "outputs": [
    {
     "data": {
      "text/plain": "CIC0                   2\nSM1_Dz(Z)             38\nGATS1i                 2\nNdsCH                  1\nNdssC                  0\nMLOGP                  3\nLC50 [-LOG(mol/L)]     2\ndtype: int64"
     },
     "execution_count": 16,
     "metadata": {},
     "output_type": "execute_result"
    }
   ],
   "source": [
    "data.isna().sum()"
   ],
   "metadata": {
    "collapsed": false,
    "ExecuteTime": {
     "end_time": "2023-08-22T03:31:44.659953100Z",
     "start_time": "2023-08-22T03:31:44.621566800Z"
    }
   }
  },
  {
   "cell_type": "markdown",
   "source": [
    "## Null Value removal"
   ],
   "metadata": {
    "collapsed": false
   }
  },
  {
   "cell_type": "code",
   "execution_count": 3,
   "outputs": [
    {
     "ename": "NameError",
     "evalue": "name 'data' is not defined",
     "output_type": "error",
     "traceback": [
      "\u001B[1;31m---------------------------------------------------------------------------\u001B[0m",
      "\u001B[1;31mNameError\u001B[0m                                 Traceback (most recent call last)",
      "Cell \u001B[1;32mIn[3], line 4\u001B[0m\n\u001B[0;32m      1\u001B[0m \u001B[38;5;28;01mfrom\u001B[39;00m \u001B[38;5;21;01msklearn\u001B[39;00m\u001B[38;5;21;01m.\u001B[39;00m\u001B[38;5;21;01mimpute\u001B[39;00m \u001B[38;5;28;01mimport\u001B[39;00m KNNImputer\n\u001B[0;32m      2\u001B[0m imputer \u001B[38;5;241m=\u001B[39m KNNImputer(n_neighbors\u001B[38;5;241m=\u001B[39m\u001B[38;5;241m5\u001B[39m)\n\u001B[1;32m----> 4\u001B[0m df_imputed \u001B[38;5;241m=\u001B[39m pd\u001B[38;5;241m.\u001B[39mDataFrame(imputer\u001B[38;5;241m.\u001B[39mfit_transform(\u001B[43mdata\u001B[49m),columns\u001B[38;5;241m=\u001B[39mdata\u001B[38;5;241m.\u001B[39mcolumns)\n\u001B[0;32m      5\u001B[0m df_imputed[\u001B[38;5;124m'\u001B[39m\u001B[38;5;124mNdssC\u001B[39m\u001B[38;5;124m'\u001B[39m] \u001B[38;5;241m=\u001B[39m df_imputed[\u001B[38;5;124m'\u001B[39m\u001B[38;5;124mNdssC\u001B[39m\u001B[38;5;124m'\u001B[39m]\u001B[38;5;241m.\u001B[39mastype(\u001B[38;5;28mint\u001B[39m)\n\u001B[0;32m      7\u001B[0m \u001B[38;5;28mprint\u001B[39m(df_imputed\u001B[38;5;241m.\u001B[39misnull()\u001B[38;5;241m.\u001B[39msum())\n",
      "\u001B[1;31mNameError\u001B[0m: name 'data' is not defined"
     ]
    }
   ],
   "source": [
    "from sklearn.impute import KNNImputer\n",
    "imputer = KNNImputer(n_neighbors=5)\n",
    "\n",
    "df_imputed = pd.DataFrame(imputer.fit_transform(data),columns=data.columns)\n",
    "df_imputed['NdssC'] = df_imputed['NdssC'].astype(int)\n",
    "\n",
    "print(df_imputed.isnull().sum())\n",
    "\n",
    "data = df_imputed"
   ],
   "metadata": {
    "collapsed": false,
    "ExecuteTime": {
     "end_time": "2023-08-22T08:04:38.379968300Z",
     "start_time": "2023-08-22T08:04:22.875853500Z"
    }
   }
  },
  {
   "cell_type": "markdown",
   "source": [
    "## Outlier Removing"
   ],
   "metadata": {
    "collapsed": false
   }
  },
  {
   "cell_type": "code",
   "execution_count": 19,
   "outputs": [
    {
     "name": "stdout",
     "output_type": "stream",
     "text": [
      "697\n"
     ]
    }
   ],
   "source": [
    "from sklearn.cluster import DBSCAN\n",
    "\n",
    "dbscan = DBSCAN(eps=0.75, min_samples=3)\n",
    "dbscan.fit(data)\n",
    "\n",
    "# Get the cluster labels\n",
    "labels = dbscan.labels_\n",
    "\n",
    "outlier_indices = data[labels == -1].index\n",
    "\n",
    "# Remove the outliers from the DataFrame\n",
    "data = data.drop(outlier_indices)\n",
    "print(len(data))"
   ],
   "metadata": {
    "collapsed": false,
    "ExecuteTime": {
     "end_time": "2023-08-22T03:36:07.385153300Z",
     "start_time": "2023-08-22T03:36:07.312348600Z"
    }
   }
  },
  {
   "cell_type": "code",
   "execution_count": 20,
   "outputs": [
    {
     "data": {
      "text/plain": "CIC0                  0\nSM1_Dz(Z)             0\nGATS1i                0\nNdsCH                 0\nNdssC                 0\nMLOGP                 0\nLC50 [-LOG(mol/L)]    0\ndtype: int64"
     },
     "execution_count": 20,
     "metadata": {},
     "output_type": "execute_result"
    }
   ],
   "source": [
    "data.isna().sum()"
   ],
   "metadata": {
    "collapsed": false,
    "ExecuteTime": {
     "end_time": "2023-08-22T03:36:14.899651200Z",
     "start_time": "2023-08-22T03:36:14.868621900Z"
    }
   }
  },
  {
   "cell_type": "code",
   "execution_count": 21,
   "outputs": [],
   "source": [
    "data.to_csv('Cleaned_data.csv')"
   ],
   "metadata": {
    "collapsed": false,
    "ExecuteTime": {
     "end_time": "2023-08-22T03:36:51.730955100Z",
     "start_time": "2023-08-22T03:36:51.665877100Z"
    }
   }
  },
  {
   "cell_type": "code",
   "execution_count": 34,
   "outputs": [
    {
     "data": {
      "text/plain": "CIC0                  372\nSM1_Dz(Z)             158\nGATS1i                426\nNdsCH                   3\nNdssC                   3\nMLOGP                 411\nLC50 [-LOG(mol/L)]    633\ndtype: int64"
     },
     "execution_count": 34,
     "metadata": {},
     "output_type": "execute_result"
    }
   ],
   "source": [
    "data.nunique()"
   ],
   "metadata": {
    "collapsed": false,
    "ExecuteTime": {
     "end_time": "2023-08-22T04:03:25.983071200Z",
     "start_time": "2023-08-22T04:03:25.918220900Z"
    }
   }
  },
  {
   "cell_type": "code",
   "execution_count": 36,
   "outputs": [],
   "source": [
    "from sklearn.model_selection import train_test_split\n",
    "from sklearn.linear_model import LinearRegression\n",
    "from sklearn.svm import SVR\n",
    "from sklearn.metrics import r2_score\n",
    "from sklearn.preprocessing import OneHotEncoder\n",
    "from sklearn.compose import make_column_transformer\n",
    "from sklearn.pipeline import make_pipeline"
   ],
   "metadata": {
    "collapsed": false,
    "ExecuteTime": {
     "end_time": "2023-08-22T04:05:49.634563800Z",
     "start_time": "2023-08-22T04:05:49.549158100Z"
    }
   }
  },
  {
   "cell_type": "code",
   "execution_count": 37,
   "outputs": [],
   "source": [
    "X = data.drop('LC50 [-LOG(mol/L)]',axis=1)\n",
    "y = data['LC50 [-LOG(mol/L)]']\n",
    "X_train,X_test,y_train,y_test = train_test_split(X,y,random_state=49,test_size=0.2)"
   ],
   "metadata": {
    "collapsed": false,
    "ExecuteTime": {
     "end_time": "2023-08-22T04:05:51.315623300Z",
     "start_time": "2023-08-22T04:05:51.251346300Z"
    }
   }
  },
  {
   "cell_type": "code",
   "execution_count": 38,
   "outputs": [
    {
     "data": {
      "text/plain": "OneHotEncoder()",
      "text/html": "<style>#sk-container-id-1 {color: black;}#sk-container-id-1 pre{padding: 0;}#sk-container-id-1 div.sk-toggleable {background-color: white;}#sk-container-id-1 label.sk-toggleable__label {cursor: pointer;display: block;width: 100%;margin-bottom: 0;padding: 0.3em;box-sizing: border-box;text-align: center;}#sk-container-id-1 label.sk-toggleable__label-arrow:before {content: \"▸\";float: left;margin-right: 0.25em;color: #696969;}#sk-container-id-1 label.sk-toggleable__label-arrow:hover:before {color: black;}#sk-container-id-1 div.sk-estimator:hover label.sk-toggleable__label-arrow:before {color: black;}#sk-container-id-1 div.sk-toggleable__content {max-height: 0;max-width: 0;overflow: hidden;text-align: left;background-color: #f0f8ff;}#sk-container-id-1 div.sk-toggleable__content pre {margin: 0.2em;color: black;border-radius: 0.25em;background-color: #f0f8ff;}#sk-container-id-1 input.sk-toggleable__control:checked~div.sk-toggleable__content {max-height: 200px;max-width: 100%;overflow: auto;}#sk-container-id-1 input.sk-toggleable__control:checked~label.sk-toggleable__label-arrow:before {content: \"▾\";}#sk-container-id-1 div.sk-estimator input.sk-toggleable__control:checked~label.sk-toggleable__label {background-color: #d4ebff;}#sk-container-id-1 div.sk-label input.sk-toggleable__control:checked~label.sk-toggleable__label {background-color: #d4ebff;}#sk-container-id-1 input.sk-hidden--visually {border: 0;clip: rect(1px 1px 1px 1px);clip: rect(1px, 1px, 1px, 1px);height: 1px;margin: -1px;overflow: hidden;padding: 0;position: absolute;width: 1px;}#sk-container-id-1 div.sk-estimator {font-family: monospace;background-color: #f0f8ff;border: 1px dotted black;border-radius: 0.25em;box-sizing: border-box;margin-bottom: 0.5em;}#sk-container-id-1 div.sk-estimator:hover {background-color: #d4ebff;}#sk-container-id-1 div.sk-parallel-item::after {content: \"\";width: 100%;border-bottom: 1px solid gray;flex-grow: 1;}#sk-container-id-1 div.sk-label:hover label.sk-toggleable__label {background-color: #d4ebff;}#sk-container-id-1 div.sk-serial::before {content: \"\";position: absolute;border-left: 1px solid gray;box-sizing: border-box;top: 0;bottom: 0;left: 50%;z-index: 0;}#sk-container-id-1 div.sk-serial {display: flex;flex-direction: column;align-items: center;background-color: white;padding-right: 0.2em;padding-left: 0.2em;position: relative;}#sk-container-id-1 div.sk-item {position: relative;z-index: 1;}#sk-container-id-1 div.sk-parallel {display: flex;align-items: stretch;justify-content: center;background-color: white;position: relative;}#sk-container-id-1 div.sk-item::before, #sk-container-id-1 div.sk-parallel-item::before {content: \"\";position: absolute;border-left: 1px solid gray;box-sizing: border-box;top: 0;bottom: 0;left: 50%;z-index: -1;}#sk-container-id-1 div.sk-parallel-item {display: flex;flex-direction: column;z-index: 1;position: relative;background-color: white;}#sk-container-id-1 div.sk-parallel-item:first-child::after {align-self: flex-end;width: 50%;}#sk-container-id-1 div.sk-parallel-item:last-child::after {align-self: flex-start;width: 50%;}#sk-container-id-1 div.sk-parallel-item:only-child::after {width: 0;}#sk-container-id-1 div.sk-dashed-wrapped {border: 1px dashed gray;margin: 0 0.4em 0.5em 0.4em;box-sizing: border-box;padding-bottom: 0.4em;background-color: white;}#sk-container-id-1 div.sk-label label {font-family: monospace;font-weight: bold;display: inline-block;line-height: 1.2em;}#sk-container-id-1 div.sk-label-container {text-align: center;}#sk-container-id-1 div.sk-container {/* jupyter's `normalize.less` sets `[hidden] { display: none; }` but bootstrap.min.css set `[hidden] { display: none !important; }` so we also need the `!important` here to be able to override the default hidden behavior on the sphinx rendered scikit-learn.org. See: https://github.com/scikit-learn/scikit-learn/issues/21755 */display: inline-block !important;position: relative;}#sk-container-id-1 div.sk-text-repr-fallback {display: none;}</style><div id=\"sk-container-id-1\" class=\"sk-top-container\"><div class=\"sk-text-repr-fallback\"><pre>OneHotEncoder()</pre><b>In a Jupyter environment, please rerun this cell to show the HTML representation or trust the notebook. <br />On GitHub, the HTML representation is unable to render, please try loading this page with nbviewer.org.</b></div><div class=\"sk-container\" hidden><div class=\"sk-item\"><div class=\"sk-estimator sk-toggleable\"><input class=\"sk-toggleable__control sk-hidden--visually\" id=\"sk-estimator-id-1\" type=\"checkbox\" checked><label for=\"sk-estimator-id-1\" class=\"sk-toggleable__label sk-toggleable__label-arrow\">OneHotEncoder</label><div class=\"sk-toggleable__content\"><pre>OneHotEncoder()</pre></div></div></div></div></div>"
     },
     "execution_count": 38,
     "metadata": {},
     "output_type": "execute_result"
    }
   ],
   "source": [
    "oh = OneHotEncoder()\n",
    "oh.fit(X[['NdsCH','NdssC']])"
   ],
   "metadata": {
    "collapsed": false,
    "ExecuteTime": {
     "end_time": "2023-08-22T04:06:32.030762Z",
     "start_time": "2023-08-22T04:06:31.946986800Z"
    }
   }
  },
  {
   "cell_type": "code",
   "execution_count": 39,
   "outputs": [],
   "source": [
    "colums_trans = make_column_transformer((OneHotEncoder(categories=oh.categories_),['NdsCH','NdssC']),\n",
    "                                       remainder='passthrough')"
   ],
   "metadata": {
    "collapsed": false,
    "ExecuteTime": {
     "end_time": "2023-08-22T04:07:38.909653700Z",
     "start_time": "2023-08-22T04:07:38.862217100Z"
    }
   }
  },
  {
   "cell_type": "code",
   "execution_count": 40,
   "outputs": [],
   "source": [
    "lr = LinearRegression()"
   ],
   "metadata": {
    "collapsed": false,
    "ExecuteTime": {
     "end_time": "2023-08-22T04:08:05.420237800Z",
     "start_time": "2023-08-22T04:08:05.398299700Z"
    }
   }
  },
  {
   "cell_type": "code",
   "execution_count": 41,
   "outputs": [],
   "source": [
    "pipe = make_pipeline(colums_trans,lr)"
   ],
   "metadata": {
    "collapsed": false,
    "ExecuteTime": {
     "end_time": "2023-08-22T04:08:22.732174400Z",
     "start_time": "2023-08-22T04:08:22.666351900Z"
    }
   }
  },
  {
   "cell_type": "code",
   "execution_count": 42,
   "outputs": [
    {
     "name": "stdout",
     "output_type": "stream",
     "text": [
      "0.7131010303091514\n"
     ]
    }
   ],
   "source": [
    "pipe.fit(X_train,y_train)\n",
    "y_pred = pipe.predict(X_test)\n",
    "\n",
    "print(r2_score(y_test,y_pred))"
   ],
   "metadata": {
    "collapsed": false,
    "ExecuteTime": {
     "end_time": "2023-08-22T04:09:39.395767500Z",
     "start_time": "2023-08-22T04:09:39.300748Z"
    }
   }
  },
  {
   "cell_type": "code",
   "execution_count": 43,
   "outputs": [
    {
     "name": "stdout",
     "output_type": "stream",
     "text": [
      "0.8030131395845995\n"
     ]
    }
   ],
   "source": [
    "scores = []\n",
    "for i in range(1000):\n",
    "    X_train,X_test,y_train,y_test = train_test_split(X,y,random_state=i,test_size=0.2)\n",
    "    lr = LinearRegression()\n",
    "    pipe = make_pipeline(colums_trans,lr)\n",
    "    pipe.fit(X_train,y_train)\n",
    "    y_pred = pipe.predict(X_test)\n",
    "    scores.append(r2_score(y_test,y_pred))\n",
    "max_index = np.argmax(scores)\n",
    "mx = scores[max_index]\n",
    "print(mx)"
   ],
   "metadata": {
    "collapsed": false,
    "ExecuteTime": {
     "end_time": "2023-08-22T04:11:30.679943600Z",
     "start_time": "2023-08-22T04:11:21.614004Z"
    }
   }
  },
  {
   "cell_type": "code",
   "execution_count": 44,
   "outputs": [
    {
     "data": {
      "text/plain": "0.8030131395845995"
     },
     "execution_count": 44,
     "metadata": {},
     "output_type": "execute_result"
    }
   ],
   "source": [
    "X_train,X_test,y_train,y_test = train_test_split(X,y,random_state=max_index,test_size=0.2)\n",
    "lr = LinearRegression()\n",
    "pipe = make_pipeline(colums_trans,lr)\n",
    "pipe.fit(X_train,y_train)\n",
    "y_pred = pipe.predict(X_test)\n",
    "r2_score(y_test,y_pred)"
   ],
   "metadata": {
    "collapsed": false,
    "ExecuteTime": {
     "end_time": "2023-08-22T04:13:06.425465200Z",
     "start_time": "2023-08-22T04:13:06.343022200Z"
    }
   }
  },
  {
   "cell_type": "code",
   "execution_count": 45,
   "outputs": [],
   "source": [
    "pickle.dump(pipe,open('LinearRegressionModel.pkl','wb'))"
   ],
   "metadata": {
    "collapsed": false,
    "ExecuteTime": {
     "end_time": "2023-08-22T04:13:17.588484600Z",
     "start_time": "2023-08-22T04:13:17.537550700Z"
    }
   }
  },
  {
   "cell_type": "code",
   "execution_count": 46,
   "outputs": [
    {
     "data": {
      "text/plain": "array([4.25073242])"
     },
     "execution_count": 46,
     "metadata": {},
     "output_type": "execute_result"
    }
   ],
   "source": [
    "pipe.predict(pd.DataFrame([[3,0.5,1.44,0,1,3.4]],columns=['CIC0','SM1_Dz(Z)','GATS1i','NdsCH','NdssC','MLOGP']))"
   ],
   "metadata": {
    "collapsed": false,
    "ExecuteTime": {
     "end_time": "2023-08-22T04:13:24.507339100Z",
     "start_time": "2023-08-22T04:13:24.363293900Z"
    }
   }
  }
 ],
 "metadata": {
  "kernelspec": {
   "display_name": "Python 3 (ipykernel)",
   "language": "python",
   "name": "python3"
  },
  "language_info": {
   "codemirror_mode": {
    "name": "ipython",
    "version": 3
   },
   "file_extension": ".py",
   "mimetype": "text/x-python",
   "name": "python",
   "nbconvert_exporter": "python",
   "pygments_lexer": "ipython3",
   "version": "3.10.0"
  }
 },
 "nbformat": 4,
 "nbformat_minor": 1
}
